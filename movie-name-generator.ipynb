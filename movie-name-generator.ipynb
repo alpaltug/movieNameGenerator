{
 "cells": [
  {
   "cell_type": "code",
   "execution_count": 48,
   "id": "a59d7926-ab42-486c-9cd5-118b713cdbb7",
   "metadata": {},
   "outputs": [],
   "source": [
    "# imports\n",
    "import torch\n",
    "import torch.nn.functional as F\n",
    "import matplotlib.pyplot as plt\n",
    "%matplotlib inline"
   ]
  },
  {
   "cell_type": "code",
   "execution_count": 49,
   "id": "0d9786ec-897e-495c-bdb7-7375ccc2bbce",
   "metadata": {},
   "outputs": [
    {
     "name": "stderr",
     "output_type": "stream",
     "text": [
      "/var/folders/5c/_swffsgd4xz7nw4tfsfl0pbr0000gn/T/ipykernel_52726/1823648364.py:9: DeprecationWarning: load_dataset is deprecated and will be removed in a future version.\n",
      "  df = kagglehub.load_dataset(\n"
     ]
    },
    {
     "name": "stdout",
     "output_type": "stream",
     "text": [
      "First 5 records:    adult                              belongs_to_collection    budget  \\\n",
      "0  False  {'id': 10194, 'name': 'Toy Story Collection', ...  30000000   \n",
      "1  False                                                NaN  65000000   \n",
      "2  False  {'id': 119050, 'name': 'Grumpy Old Men Collect...         0   \n",
      "3  False                                                NaN  16000000   \n",
      "4  False  {'id': 96871, 'name': 'Father of the Bride Col...         0   \n",
      "\n",
      "                                              genres  \\\n",
      "0  [{'id': 16, 'name': 'Animation'}, {'id': 35, '...   \n",
      "1  [{'id': 12, 'name': 'Adventure'}, {'id': 14, '...   \n",
      "2  [{'id': 10749, 'name': 'Romance'}, {'id': 35, ...   \n",
      "3  [{'id': 35, 'name': 'Comedy'}, {'id': 18, 'nam...   \n",
      "4                     [{'id': 35, 'name': 'Comedy'}]   \n",
      "\n",
      "                               homepage     id    imdb_id original_language  \\\n",
      "0  http://toystory.disney.com/toy-story    862  tt0114709                en   \n",
      "1                                   NaN   8844  tt0113497                en   \n",
      "2                                   NaN  15602  tt0113228                en   \n",
      "3                                   NaN  31357  tt0114885                en   \n",
      "4                                   NaN  11862  tt0113041                en   \n",
      "\n",
      "                original_title  \\\n",
      "0                    Toy Story   \n",
      "1                      Jumanji   \n",
      "2             Grumpier Old Men   \n",
      "3            Waiting to Exhale   \n",
      "4  Father of the Bride Part II   \n",
      "\n",
      "                                            overview  ... release_date  \\\n",
      "0  Led by Woody, Andy's toys live happily in his ...  ...   1995-10-30   \n",
      "1  When siblings Judy and Peter discover an encha...  ...   1995-12-15   \n",
      "2  A family wedding reignites the ancient feud be...  ...   1995-12-22   \n",
      "3  Cheated on, mistreated and stepped on, the wom...  ...   1995-12-22   \n",
      "4  Just when George Banks has recovered from his ...  ...   1995-02-10   \n",
      "\n",
      "       revenue runtime                                   spoken_languages  \\\n",
      "0  373554033.0    81.0           [{'iso_639_1': 'en', 'name': 'English'}]   \n",
      "1  262797249.0   104.0  [{'iso_639_1': 'en', 'name': 'English'}, {'iso...   \n",
      "2          0.0   101.0           [{'iso_639_1': 'en', 'name': 'English'}]   \n",
      "3   81452156.0   127.0           [{'iso_639_1': 'en', 'name': 'English'}]   \n",
      "4   76578911.0   106.0           [{'iso_639_1': 'en', 'name': 'English'}]   \n",
      "\n",
      "     status                                            tagline  \\\n",
      "0  Released                                                NaN   \n",
      "1  Released          Roll the dice and unleash the excitement!   \n",
      "2  Released  Still Yelling. Still Fighting. Still Ready for...   \n",
      "3  Released  Friends are the people who let you be yourself...   \n",
      "4  Released  Just When His World Is Back To Normal... He's ...   \n",
      "\n",
      "                         title  video vote_average vote_count  \n",
      "0                    Toy Story  False          7.7     5415.0  \n",
      "1                      Jumanji  False          6.9     2413.0  \n",
      "2             Grumpier Old Men  False          6.5       92.0  \n",
      "3            Waiting to Exhale  False          6.1       34.0  \n",
      "4  Father of the Bride Part II  False          5.7      173.0  \n",
      "\n",
      "[5 rows x 24 columns]\n"
     ]
    },
    {
     "name": "stderr",
     "output_type": "stream",
     "text": [
      "/Users/alpaltug/.pyenv/versions/3.11.5/Library/Frameworks/Python.framework/Versions/3.11/lib/python3.11/site-packages/kagglehub/pandas_datasets.py:91: DtypeWarning: Columns (10) have mixed types. Specify dtype option on import or set low_memory=False.\n",
      "  result = read_function(\n"
     ]
    }
   ],
   "source": [
    "# load the movies_metadata dataset. This is a blueprint code from kaggle api\n",
    "import kagglehub\n",
    "from kagglehub import KaggleDatasetAdapter\n",
    "\n",
    "# Set the path to the file you'd like to load\n",
    "file_path = \"movies_metadata.csv\"\n",
    "\n",
    "# Load the latest version\n",
    "df = kagglehub.load_dataset(\n",
    "  KaggleDatasetAdapter.PANDAS,\n",
    "  \"rounakbanik/the-movies-dataset\",\n",
    "  file_path,\n",
    "  # Provide any additional arguments like \n",
    "  # sql_query or pandas_kwargs. See the \n",
    "  # documenation for more information:\n",
    "  # https://github.com/Kaggle/kagglehub/blob/main/README.md#kaggledatasetadapterpandas\n",
    ")\n",
    "\n",
    "print(\"First 5 records:\", df.head())"
   ]
  },
  {
   "cell_type": "code",
   "execution_count": 50,
   "id": "e928f1ce-6d49-425e-b315-aa7df2e332e3",
   "metadata": {},
   "outputs": [
    {
     "name": "stdout",
     "output_type": "stream",
     "text": [
      "First 10 movie titles: ['Toy Story', 'Jumanji', 'Grumpier Old Men', 'Waiting to Exhale', 'Father of the Bride Part II', 'Heat', 'Sabrina', 'Tom and Huck', 'Sudden Death', 'GoldenEye']\n",
      "Total number of movies: 45466\n"
     ]
    }
   ],
   "source": [
    "movie_titles = df['title'].tolist()\n",
    "\n",
    "# printing the first few movie titles to verify\n",
    "print(\"First 10 movie titles:\", movie_titles[:10])\n",
    "\n",
    "# printing the length of the movies list\n",
    "print(\"Total number of movies:\", len(movie_titles))"
   ]
  },
  {
   "cell_type": "code",
   "execution_count": 88,
   "id": "f95ee19c-6ce1-4b29-b421-dcea1aa54354",
   "metadata": {},
   "outputs": [
    {
     "name": "stdout",
     "output_type": "stream",
     "text": [
      "287\n"
     ]
    }
   ],
   "source": [
    "cleaned_movie_titles = [str(title) for title in movie_titles]\n",
    "\n",
    "chars = sorted(list(set(''.join(cleaned_movie_titles))))\n",
    "stoi = {s:i+1 for i, s in enumerate(chars)}\n",
    "stoi['.'] = 0\n",
    "itos = {i:s for s, i in stoi.items()}\n",
    "vocab_size = len(stoi)\n",
    "print(vocab_size)\n",
    "\n",
    "block_size = 16  # predicting the next character from the past 16 chars"
   ]
  },
  {
   "cell_type": "code",
   "execution_count": 94,
   "id": "4383b95a-d007-45d9-a7f8-64a5b9b57b0a",
   "metadata": {},
   "outputs": [],
   "source": [
    "# build dataset\n",
    "\n",
    "def build_dataset(words):\n",
    "    X, Y = [], []\n",
    "    padding_idx = stoi['.'] # Make sure this is correct based on your stoi\n",
    "\n",
    "    for w in words:\n",
    "        context = [padding_idx] * block_size\n",
    "        for c in (w + '.'):\n",
    "            if c not in stoi:\n",
    "                print(f\"DEBUG: Character '{c}' (ord={ord(c)}) not found in stoi for word '{w}'!\")\n",
    "                # Decide how to handle: skip, map to UNK, or raise error\n",
    "                raise ValueError(f\"Character '{c}' not in vocabulary.\")\n",
    "            idx = stoi[c]\n",
    "            if idx >= vocab_size:\n",
    "                continue\n",
    "            X.append(context)\n",
    "            Y.append(idx)\n",
    "            context = context[1:] + [idx]\n",
    "    X = torch.tensor(X)\n",
    "    Y = torch.tensor(Y)\n",
    "    return X, Y\n",
    "\n",
    "import random\n",
    "random.seed(123)\n",
    "random.shuffle(cleaned_movie_titles)\n",
    "n1 = int(0.8*len(cleaned_movie_titles))\n",
    "n2 = int(0.9*len(cleaned_movie_titles))\n",
    "\n",
    "Xtr, Ytr = build_dataset(cleaned_movie_titles[:n1])\n",
    "Xval, Yval = build_dataset(cleaned_movie_titles[n1:n2])\n",
    "Xte, Yte = build_dataset(cleaned_movie_titles[n2:])"
   ]
  },
  {
   "cell_type": "code",
   "execution_count": 95,
   "id": "c32d7fdc-3e63-4f4a-b50a-c49a68811755",
   "metadata": {},
   "outputs": [],
   "source": [
    "# define the layers of our network\n",
    "\n",
    "# Linear1D Layer (torch's nn.Linear layer)\n",
    "class Linear:\n",
    "\n",
    "    def __init__(self, fan_in, fan_out, bias=True):\n",
    "        self.weight = torch.randn((fan_in, fan_out)) / fan_in**1/2  # normalize\n",
    "        self.bias = torch.zeros((fan_out)) if bias else None\n",
    "\n",
    "    def __call__(self, x):\n",
    "        self.out = x @ self.weight\n",
    "        if self.bias is not None:\n",
    "            self.out += self.bias\n",
    "        return self.out\n",
    "\n",
    "    def parameters(self):\n",
    "        return [self.weight] + ([] if self.bias is None else [self.bias]) \n",
    "\n",
    "# ---------------------------------------------------------------------------------------------------------\n",
    "\n",
    "# Linear1D Layer (torch's nn.BATCHNORM1D layer)\n",
    "class BatchNorm1d:\n",
    "\n",
    "    def __init__(self, dims, eps=1e-5, momentum=0.1):\n",
    "        self.eps = eps\n",
    "        self.momentum = momentum\n",
    "        self.training = True\n",
    "         # parameters (trained with backprop)\n",
    "        self.gamma = torch.ones(dims)\n",
    "        self.beta = torch.zeros(dims)\n",
    "        # buffers (trained with running a 'momentum' update)\n",
    "        self.running_mean = torch.zeros(dims)\n",
    "        self.running_var = torch.ones(dims)\n",
    "\n",
    "    def __call__(self, x):\n",
    "        # calculate the forward pass\n",
    "        if self.training:\n",
    "            if x.ndim == 2:\n",
    "                dim = 0\n",
    "            elif x.ndim == 3:\n",
    "                dim = (0, 1)\n",
    "            xmean = x.mean(dim, keepdims=True)  # calculate the batch mean\n",
    "            xvar = x.var(dim, keepdims=True)  # calculate the batch variance\n",
    "        else:\n",
    "            xmean = self.running_mean  # sample mean\n",
    "            xvar = self.running_var  # sample variance\n",
    "        xhat = (x - xmean) / torch.sqrt(xvar + self.eps)  # normalize to unit variance\n",
    "        self.out = self.gamma * xhat + self.beta\n",
    "        # update the buffers\n",
    "        if self.training:\n",
    "            with torch.no_grad():\n",
    "                self.running_mean = (1 - self.momentum) * self.running_mean + self.momentum * xmean\n",
    "                self.running_var = (1 - self.momentum) * self.running_var + self.momentum * xvar\n",
    "        return self.out\n",
    "\n",
    "    def parameters(self):\n",
    "        return [self.gamma, self.beta]\n",
    "\n",
    "# ---------------------------------------------------------------------------------------------------------\n",
    "\n",
    "# Tanh Nonlinearity layer (torch's nn.TANH layer)\n",
    "\n",
    "class Tanh:\n",
    "\n",
    "    def __call__(self, x):\n",
    "        self.out = torch.tanh(x)\n",
    "        return self.out\n",
    "    def parameters(self):\n",
    "        return []\n",
    "\n",
    "# ---------------------------------------------------------------------------------------------------------\n",
    "\n",
    "\n",
    "# Embedding Lookup table layer (torch's nn.EMBEDDING layer)\n",
    "\n",
    "class Embedding:\n",
    "\n",
    "    def __init__(self, num_embeddings, embedding_dim):\n",
    "        self.weight = torch.randn((num_embeddings, embedding_dim))\n",
    "\n",
    "    def __call__(self, IX):\n",
    "        self.out = self.weight[IX]\n",
    "        return self.out\n",
    "    def parameters(self):\n",
    "        return [self.weight]\n",
    "\n",
    "# ---------------------------------------------------------------------------------------------------------\n",
    "\n",
    "# Flatten layer to concat trailing dimensions (torch's nn.FLATTEN layer)\n",
    "\n",
    "class Flatten:\n",
    "\n",
    "    def __call__(self, x):\n",
    "        self.out = x.view(x.shape[0], -1)\n",
    "        return self.out\n",
    "    def parameters(self):\n",
    "        return []\n",
    "\n",
    "# ---------------------------------------------------------------------------------------------------------\n",
    "\n",
    "# Flatten layer to concat trailing dimensions (torch's nn.FLATTEN layer)\n",
    "\n",
    "class FlattenConsecutive:\n",
    "\n",
    "    def __init__(self, n):\n",
    "        self.n = n\n",
    "        \n",
    "    def __call__(self, x):\n",
    "        B, T, C = x.shape\n",
    "        x = x.view(B, T//self.n, C*self.n)\n",
    "        if x.shape[1] == 1:\n",
    "            x = x.squeeze(1)\n",
    "        self.out = x\n",
    "        return self.out\n",
    "    def parameters(self):\n",
    "        return []\n",
    "\n",
    "# ---------------------------------------------------------------------------------------------------------\n",
    "\n",
    "# similar to torch.nn.Sequential()\n",
    "\n",
    "class Sequential():\n",
    "\n",
    "    def __init__(self, layers):\n",
    "        self.layers = layers\n",
    "\n",
    "    def __call__(self, x):\n",
    "        for layer in self.layers:\n",
    "            x = layer(x)\n",
    "        self.out = x\n",
    "        return x\n",
    "    def parameters(self):\n",
    "        return [p for l in self.layers for p in l.parameters()]"
   ]
  },
  {
   "cell_type": "code",
   "execution_count": 96,
   "id": "bd766dd3-907f-45d2-8499-c39e272f2121",
   "metadata": {},
   "outputs": [
    {
     "data": {
      "text/plain": [
       "<torch._C.Generator at 0x130c07c70>"
      ]
     },
     "execution_count": 96,
     "metadata": {},
     "output_type": "execute_result"
    }
   ],
   "source": [
    "torch.manual_seed(123)"
   ]
  },
  {
   "cell_type": "code",
   "execution_count": 97,
   "id": "8b428122-fcb5-425b-b454-fd4a0e5c79d2",
   "metadata": {},
   "outputs": [
    {
     "name": "stdout",
     "output_type": "stream",
     "text": [
      "1144583\n"
     ]
    }
   ],
   "source": [
    "n_embd = 24\n",
    "n_hidden = 512\n",
    "\n",
    "model = Sequential([\n",
    "    Embedding(vocab_size, n_embd),\n",
    "    FlattenConsecutive(2), Linear(2 * n_embd, n_hidden // 2, bias=False), BatchNorm1d(n_hidden // 2), Tanh(),\n",
    "    FlattenConsecutive(2), Linear(2 * n_hidden // 2, n_hidden, bias=False), BatchNorm1d(n_hidden), Tanh(),\n",
    "    FlattenConsecutive(2), Linear(2 * n_hidden, n_hidden, bias=False), BatchNorm1d(n_hidden), Tanh(),\n",
    "    FlattenConsecutive(2), Linear(2 * n_hidden, n_hidden // 2, bias=False), BatchNorm1d(n_hidden // 2), Tanh(),\n",
    "    Linear(n_hidden // 2, vocab_size)\n",
    "    \n",
    "])\n",
    "\n",
    "with torch.no_grad():\n",
    "    model.layers[-1].weight *= 0.1 # make last layer less confident\n",
    "\n",
    "parameters = model.parameters()\n",
    "for p in parameters:\n",
    "    p.requires_grad = True\n",
    "print(sum(p.nelement() for p in parameters))"
   ]
  },
  {
   "cell_type": "code",
   "execution_count": 104,
   "id": "61256f95-8310-4f6e-8b8d-e1feaec6340d",
   "metadata": {},
   "outputs": [
    {
     "name": "stdout",
     "output_type": "stream",
     "text": [
      "      0/ 200000: 1.1975\n",
      "  10000/ 200000: 1.5921\n",
      "  20000/ 200000: 1.0169\n",
      "  30000/ 200000: 1.3745\n",
      "  40000/ 200000: 1.4908\n",
      "  50000/ 200000: 1.1198\n",
      "  60000/ 200000: 0.9952\n",
      "  70000/ 200000: 1.3306\n",
      "  80000/ 200000: 1.4683\n",
      "  90000/ 200000: 1.2538\n",
      " 100000/ 200000: 1.0574\n",
      " 110000/ 200000: 0.9388\n",
      " 120000/ 200000: 0.9299\n",
      " 130000/ 200000: 0.8704\n",
      " 140000/ 200000: 0.8303\n",
      " 150000/ 200000: 0.6934\n",
      " 160000/ 200000: 1.2947\n",
      " 170000/ 200000: 0.8760\n",
      " 180000/ 200000: 0.8460\n",
      " 190000/ 200000: 0.8633\n"
     ]
    }
   ],
   "source": [
    "# optimize the weights using batches\n",
    "max_steps = 200000\n",
    "batch_size = 64\n",
    "lossi = []\n",
    "ud = []\n",
    "\n",
    "for i in range(max_steps):\n",
    "\n",
    "    # construct the batch\n",
    "    ix = torch.randint(0, Xtr.shape[0], (batch_size,))\n",
    "    Xb, Yb = Xtr[ix], Ytr[ix]\n",
    "\n",
    "    # forward pass\n",
    "    logits = model(Xb)\n",
    "\n",
    "    # calculate the loss\n",
    "    loss = F.cross_entropy(logits, Yb) # input x is logits of shape (32, vocab_size), y is the targets of size (32) -> converts logits into counts and computes the cross entropy loss\n",
    "\n",
    "    # backward pass\n",
    "    for p in parameters:\n",
    "        p.grad = None\n",
    "    loss.backward()\n",
    "\n",
    "    # update\n",
    "    lr = 0.05 if i < 100000 else 0.01\n",
    "    for p in parameters:\n",
    "        p.data += -lr * p.grad\n",
    "\n",
    "    # track stats\n",
    "    if i % 10000 == 0:\n",
    "        print(f'{i:7d}/{max_steps:7d}: {loss.item():.4f}')\n",
    "    lossi.append(loss.log10().item())\n",
    "    with torch.no_grad():\n",
    "        ud.append([((lr*p.grad).std() / p.data.std()).log10().item() for p in parameters])\n",
    "\n",
    "    # break  # AFTER_DEBUG"
   ]
  },
  {
   "cell_type": "code",
   "execution_count": 105,
   "id": "430032e8-5741-4fe3-a833-ac86f872dae3",
   "metadata": {},
   "outputs": [
    {
     "data": {
      "text/plain": [
       "[<matplotlib.lines.Line2D at 0x147edf210>]"
      ]
     },
     "execution_count": 105,
     "metadata": {},
     "output_type": "execute_result"
    },
    {
     "data": {
      "image/png": "[encoded data removed]",
      "text/plain": [
       "<Figure size 640x480 with 1 Axes>"
      ]
     },
     "metadata": {},
     "output_type": "display_data"
    }
   ],
   "source": [
    "plt.plot(lossi)"
   ]
  },
  {
   "cell_type": "code",
   "execution_count": 106,
   "id": "f19d7046-04be-4659-88db-0a7aef86a98c",
   "metadata": {},
   "outputs": [
    {
     "data": {
      "text/plain": [
       "[<matplotlib.lines.Line2D at 0x1471fde10>]"
      ]
     },
     "execution_count": 106,
     "metadata": {},
     "output_type": "execute_result"
    },
    {
     "data": {
      "image/png": "[encoded data removed]",
      "text/plain": [
       "<Figure size 640x480 with 1 Axes>"
      ]
     },
     "metadata": {},
     "output_type": "display_data"
    }
   ],
   "source": [
    "plt.plot(torch.tensor(lossi).view(-1, 1000).mean(1))"
   ]
  },
  {
   "cell_type": "code",
   "execution_count": 107,
   "id": "7e240c55-157b-4681-a96a-e2d6684150b8",
   "metadata": {},
   "outputs": [],
   "source": [
    "# we need to change the state when testing\n",
    "\n",
    "for layer in model.layers:\n",
    "    layer.training = False"
   ]
  },
  {
   "cell_type": "code",
   "execution_count": 108,
   "id": "7584dadb-7248-42ab-ab47-a270ed788985",
   "metadata": {},
   "outputs": [
    {
     "name": "stdout",
     "output_type": "stream",
     "text": [
      "train 2.057239532470703\n",
      "val 2.057987928390503\n"
     ]
    }
   ],
   "source": [
    "@torch.no_grad() # this decorater disables gradient tracking\n",
    "def split_loss(split):\n",
    "    x, y = {\n",
    "        \"train\": (Xtr, Ytr),\n",
    "        \"val\": (Xval, Yval),\n",
    "        \"train\": (Xte, Yte),\n",
    "    }[split]\n",
    "\n",
    "    logits = model(x)\n",
    "\n",
    "    loss = F.cross_entropy(logits, y)\n",
    "    print(split, loss.item())\n",
    "    \n",
    "\n",
    "split_loss(\"train\")\n",
    "split_loss(\"val\")"
   ]
  },
  {
   "cell_type": "code",
   "execution_count": 117,
   "id": "799fb708-932b-4ae1-8910-10208775978c",
   "metadata": {},
   "outputs": [
    {
     "name": "stdout",
     "output_type": "stream",
     "text": [
      "['The Inspector Comes at the Voes.', 'Creep Dander Part 26I.', 'Sundoment.', 'Baxter For My Song.', 'David: A Quest of Saladin.', 'Split Second.', 'Red Know.', 'Sweet Smart.', 'The Amber Death.', 'Ash Povers.', \"Maliety'sigati.\", '2000 Feets Fire: Sleep We Were Hart, Lady C.', 'The Perfect Roommar: Escape Hamilton.', 'Garfield.', 'Pigsty.', 'The 345 loom Free.', 'The Linguists.', 'Super Buddies.', 'Kung Fu Chot Hour.', 'The Anderson Room.', 'Tracing Rangers.', 'Scooby-Doo 2imes Outsiders.', 'One Last Zombies.', 'Camille.', 'The Steel Villad.', 'Big Girls.', 'Lost in Manhattan.', 'My Sister Mitztechens.', 'Die Saleslance.', 'My Girl.', 'Mademoiselle.', 'Tryenie & Angels.', 'The Most Beautiful.', \"Mind's People from Above.\", '9th Child.', 'Café a Girl in Water.', 'Speed Alien.', 'Carpet Harp.', 'Blood All-Adder.', 'Djomehbilly You Were The World Unite.', 'The Conquerors.', 'The Man of Gore Girl.', 'The Chocolate Cave Kid.', 'Born to Be Good.', 'Rough Cut.', 'Black Square.', 'Belle du Seigner.', 'Mijir-Ole.', 'Dialia in Wax.', 'Waterworld.', 'Shades of Torture vs.', 'Labors Bling: The Life and Times of Flame: The Extraordinary Voyage.', 'The Among Stain Kick.', 'When Harry Met Llose.', 'William 3: Hosta Lees Family.', 'Backwards.', 'Filmes.', 'Appine Secretary.', '21 Souls.', 'When Civses or White: The House If Frights.', 'Lost Annie Wall.', 'If My Chorus.', 'Chain Death.', 'Tell Lovers.', 'Carmens.', 'Sometimes in Tyref.', 'Out Of The Mole Saga Jobs.', 'Love and Death.', 'Nana Was Actual 2.', 'My Favorite War.', 'Sex Lives of the Poolera.', 'No Bombre Stoicasses.', 'Double That Water.', 'Just Desert.', 'A Few Less Men.', \"Taist X-1 Rape of Genim': Baby Cake - Wonderland.\", 'More.', 'Diet of the Screen.', 'The Adventures of Huckleberry Finn.', 'Carry On Campopland.', 'The Substitute Husband.', 'Soft Suit Baby.', 'Isle of Verstruction.', 'Hotel Car M.', 'Squadra antitrust.', 'Hi-Cart: Ghost and Forsaken Stilots.', 'America v.', 'A House for Versus: The Story of How I.', 'The Admiral.', 'Gamera the Man Fan.', 'Puss and the City Comes.', 'Rosencrantz ky)νake the Wildcats.', 'Screwed.', \"Casanova's Baxi.\", 'Which Way Is Back.', 'The Smallever usandman.', 'The Trouble with Gliff Belly.', 'A Country Wrered Childing: The Lazy Thullucar.', 'The Three Cabinsacy.', 'House.', 'The Bourne Curring.', 'Bluebire.', 'The Joyriders.', 'The Mystery of Stars at the House.', 'The Interrogation.', '667A.', \"The Devil's Backbone.\", 'An Affair Wage.', 'Chairma 7-1: The Motion Picture Revenge.', 'Black Sheep.', 'The Woman in the Shadows of Life.', 'Vinylmemvend.', 'Indian Tale.', 'Third Date.', 'The Photographer.', 'Magical Classmate.', 'Kik.', 'Not Night.', 'Biokal Teamina Soon.', 'Dark Till State.', 'Doctor War.', 'Frank and Bella 5ucadiom of Lamenta Around the Moon.', 'Blood Tea and the Revolution.', 'Cleopatra.', 'Must Days in September.', 'The Secret of Gt Live Rig.', 'The Russian: Madi-ian Taese Yourself.', 'About a Family.', 'Air Force 10 for Sister Budderfult.', 'The Clabe.', 'Hellraiser: Deademen with a Cinema.', 'Misval of Monsceonary.', 'Manhattan.', 'Saratoga.', 'Coin Locker demni mohDt Much Walk.', 'Dr.', 'The Skeleton Heart.', 'The Perfect On Japanese Area Victim.', 'White Worm.', 'The Worst Dawn.', 'A History of Our Tropical Yello.', 'Getting Selfie.', \"Annie's Country.\", 'Mistress.', 'Counter Blue.', 'Jack Chest.', 'Sands & Scenes of Casably.', 'Gaythe End.', 'The Mermaid.', 'Bastie Wool Electric Parlondo.', 'Young Lady in the Impossible.', 'Top Forgotten Words.', 'Bill Burr: Y22.', 'Scandal.', 'Qunet Chair.', 'Tell Dog.', 'The Exception.', \"Bitter's Day.\", 'Big Bad Man.', 'Why Speed Room.', 'Amusemen is Murder.', 'White Wine.', 'The Fabulous Baron Silling.', 'The Old Man Teen.', 'Kiss Theo Friends.', 'Thou Shalt Lauger.', 'Megamind.', 'Oliver Mation.', 'The Fire of GanjYeing.', 'Time Not of Birthaduo.', 'Havenhurio.', 'Bunny Tower Me.', 'Blue Movie.', 'Benjine Boys.', 'One, Two, That Up with Warriors.', 'Road House.', '13 Floatie.', 'Catfish.', 'Coco Help.', 'Something Borderal.', 'Dark Haul.', 'Dark City.', 'First Kill.', 'Life After İ Per Killes.', 'No Retreat, No Surrender.', 'Two-Lonelope-& K.', \"Pixar's Kids.\", 'One Girl 2.', 'The Dark Horse.', 'Café au Light.', 'Heavy.', 'You Were Hardyman.', 'Invisible Cruisers.', 'Eles.', '3 vetto: Soldier of Secrets.', 'My Life as the Valley.', 'Kidnapped.', 'Four Gnop.', 'The Unhold Royed.', 'The Last Patrol.', 'Alien.', 'The High Is Cool.', 'A Terminus Hamley Insomnia.', 'Syston, Open with Love.', \"The Last Dahive L'nuta.\", 'One Eygrisje Master.', 'Hopelessland.', 'Three State Affair.', 'The Strange and Me.', 'Tesse to Dream.', 'Knight in the Alone.', 'Interceptor at Vacation.', 'City Jolp.', 'Immortal Shot.', 'God of Blood and Masters.', 'Uttara.', 'La Street Scenes.', 'Seajistant.', 'Many C.', '8.', 'An Invincible Ice.', 'How to Sex and Terror.', 'Restoration Man.', 'Reunion on the New York Died.', 'Haunted.', 'Talehead.', 'The Walking With Guns.', 'Meet Diaries The Lights On.', 'Wild Child.', 'Love Creed.', 'American Swing.', 'Far Heaven.', 'Blade on Earth.', 'My Gecation.', 'Pirateva 3: Look, Cauda.', 'Deujents.', 'Houston.', 'The Last Action IRick Up.', 'Deep Space.', 'Giloh: The Life and Death & World.', 'Amelia.', 'Blame.', 'La ste and Summer Demetrios.', 'Benius in Washington.', 'The Step-How Strangers.', 'My Love.', \"Beethoven's Prise.\", 'Between Your Eyes.', 'Mifelitz Apacza.', 'The Fère or Direct Warriors.', 'Cracker.', 'White Water Summer.', 'Black Month.', 'The Perfect Happens.', 'City Limits.', 'Paraison: 9.', 'The Four Warrior.', \"Walking Tall Shotsky: Than Gardens 2: Preep Grift's Elefuschie.\", 'Blood in the Valley.', 'The Great Invitrip.', \"Merlin' Diable.\", 'Evil Kings of Fear.', 'Bachelor anties.', 'The Beauty.', 'Those Not side Of Noi e.', 'Auntiet.', 'Master Horse.', 'Whispers in the First Is.', 'Red Rollis.', 'A House of Madness.', 'Tutto mi.', 'Destiny Deon.', 'Death Wish.', 'The Dark Continnathaciral.', 'Lola.', 'Cattle For: The Movie.', 'The Price of Foolete Second Is Came.', 'Alien Autopsy.', 'Plane Come to Karloies.', 'Funeral Dead Biz.', 'Let and Shovies.', 'Cheerful Santa.', 'Distants.', 'Raffeading Months.', 'The Distance of Winter.', 'Send First Lantent.', 'Battle & School.', 'The Invisible Monkeys.', 'El Amor Orport.', 'Sundown.', 'Report to Caie !?.', 'Destiny.', 'The Dublic Man.', 'Montenegrow.', 'Lo poig П.', 'Blood Dog, Home.', 'Human Cope.', 'Alone.', 'Finding a Hookscapi.', 'Doomed Heartparo.', \"The Devil's Bringo.\", 'Barrical on Exechical.', \"The Next Run' Thl Cramise.\", 'Redline.', 'Mary at Is October Wars.', 'Badax.', 'Norweilly Decenternec 33.', 'Le Grand Pean.', 'Hitler for Alient Ears.', 'The Bush Girls.', 'Americain Apacheri.', 'The Student Princess.', 'Room & Comfird.', 'Iliza Shlesiege.', 'The Thing About Sleep.', 'De Live.', 'Ninjas vs.', 'No Money X.', 'The Man Without Tripha.', 'This Obliver Bite.', 'Jönssonligan Morpheusselled All a Coffin.', 'Monster House.', 'The Brothers Lulle.', 'Souls for Made in Baigian.', 'Helsinki.', 'Preptor of the Jurassing.', 'Salemma.', 'Happy Carter.', \"Pirate's America.\", 'Breast Men.', \"Merlin's Shop Bruce.\", 'Empire of the Sun.', 'Werewolf of Men.', 'The Spitek Car.', 'Simon Rise & Film.', 'Einer Abbott and Boxer.', '11 2.', 'Manufar.', 'The Bourne.', 'Navaly Story.', 'China Blue.', 'Smashing Jack.', 'The Story of Life Is Right.', 'Catch That Separdum.', 'Poctrack Polo.', 'The Flying Man.', 'The Diary of an Iron Me.', 'The Dark Side of the Elean.', 'His Privates: The Cost of Diamonds.', 'Plulu Bullets.', 'Comedy or Music Chaple Note.', \"Pakeeping People I'ls Die Red.\", 'Sympathy for the Fire.', 'Cattle Accidents.', 'The Amazing Star: Fust 3700.', 'Santown.', 'Jack Frost.', 'Man of the Dragons.', 'American Friends.', 'Westwick Wins.', 'Time Stook Nedukbound.', 'La part Werner - Room.', 'Send Sexidan.', 'Last Seiye.', 'Around the Stork.', 'Under the Rainbow.', 'Viva Than Sughre.', 'The Assassination of Night.', 'Alt-Man.', 'Cinderella.', 'Thirst.', 'Funny Hugt.', 'Suicide Flumij wan.', 'Monkey Russia Fights.', 'The Van.', 'Bad Lieutenant.', 'I.', \"Billy Rose's Creature 11.\", 'Hush.', 'Saint Camp.', \"Disra, Friend's Great and Thieves.\", 'Santo vs.', 'Swimming.', 'Small Cuts.', 'Alaska.', 'Beneath the Six.', 'Danger and Julia.', 'Child of Ordinary Daughters.', 'Melified.', 'Go Women.', 'The Mountain of the House.', 'Lucky Luke: Out) Committed.', \"Without a Paddle: Näit's Unva: The Traceless.\", 'Conteminister.', 'The Life After 67-.', 'Weekend Advur.', \"Thieves' Killer.\", 'Orange, Sqipersiau: Race After Christmas.', 'Water.', 'God Love.', 'The Girl of the Bride.', 'The Next Leader.', 'Heaven.', 'Surviving Project.', 'The Cheatre of Killing.', 'Losinging Water.', 'Mighty Is Woman.', 'A C.', 'The Last Days.', 'Wrath of a Naouse.', 'My Best Detrodi.', 'Delivery so a Miles Me Apenage.', 'Storage.', 'Death Bells.', 'Bingo Man from Society.', 'Home on the Moon.', 'Ski Party.', 'Shock Cold.', 'Return to Horror, the Line.', 'Cold Undon.', 'Wingo Satannels.', 'Roots and Meets Onlor.', 'Heedbellör Married.', 'Old Man at Tree.', 'Simner Joe.', 'Dragon Ball Z: Toll Agresor.', 'Lills in a Blue Live?.', 'Such-Hard.', 'Green Ice.', 'Billion Lawles.', 'Juwan Knuir Feels.', 'Brivate Men.', 'Flitha and the Rear 2-Did Goes for Christmas.', 'Fuck Zodu.', 'The Spy Who New Play in Februal.', 'Dot Eloise.', 'Monty 3.', 'The Ambush.', 'Woodball.', 'The Hard Eye.', \"The Plip d's Air!.\", \"Amorrow You're in October Şalker.\", 'Once Upon a Time in Blackout.', 'Mantis Cum.', 'Phil Spector.', 'Zero It 3213: The Devil Inside Hair.', 'Black Viya Clause: A Dangerous Metholoss.', 'APCnemulti: View Like the Years.', 'Geogram Spientin: Precity Blank Heikréed.', 'Lust-Ha-bice.', 'Black Becoming.', 'The One Walking Distants.', 'Kickboxer: Soulgri!-Things Company Rivers.', 'What Safe.', 'The Sentimental Vina Seek.', 'Save the Dead.', 'Appa la bie Price.', 'The Strange City.', 'Violent Warriors.', 'The Dead and the Explorers.', 'Sisters.', 'Playing for Love.', 'Kung Fu Crooks Anonia.', 'A Burning Becond.', 'Psycho-O.', 'The Impossible Dragon.', 'Piedwerpet Christina.', 'The Them.', 'When a Saips Me Defear.', 'The Last Details.', 'The Invincible Is Rain.', 'Narrows Caroning.', 'The Day Joe.', 'Return to Hell.', 'Redeemer Kid.', 'Woody Ille: A Pure for Maria.', 'Phoenix.', 'Ticket Afterson.', 'The Sublet.', 'Migra: Stand Nail.', 'Film Alt.', 'Summer Pacts.', 'Soldier.', 'Hitman.', 'Paris.', 'Superson Broadway.', 'The Boon Deep.', 'Maigoit.', 'Ringus.', 'Quadrophenia: A Life for Christmas.', 'Boavet That East.', 'Firestarter 2: Dead of the Dead.', '12 Storeys.', 'Savage Return.', 'My Man Godfrey.', 'Morong.', 'Parkly White Suite.', 'Exit Guy Pick.', 'Defroid.', 'Prom American Night.', 'The Great Gatsby.', 'Perfect Proposal.', 'Time Mother.', 'Bear Frankiss.', 'The Red Barlfrui Break.', 'Rock the Moon.', 'Sunshine of Ishabits.', 'Joshua.', 'Constant.', 'Here and Gult.', '¡The Extraome to Knock.', 'Raffette.', 'The Little Princess.', 'Bringing Down the Bobby.', \"Lili, Mi d'n Dopression.\", 'Five Star Wars: A Love Story.', 'Camp Hell.', 'Comedy Cast Dafiant Summer.', 'Esthers Fellowski: Peter Party.', 'Funeral Maherios.', 'Tales from the Darkside.', 'Endless Hill.', 'Hum To Mom!.', 'The House of Roses.', 'I Was a Male War Faller.', 'The First Winter.', 'For the Bible Cub.', 'The Choice Movie.', 'Il pircus.', 'Mike House.', 'Bodyguard.', 'If Elle Is Alice.', 'A Soldier of Zeret.', 'Hot Shots!.', 'Billy Machine.', 'The Colored Girls.', 'Death Race 2000.', 'Serpentine Men.', \"Skin 'o éfor: Red-Mile.\", 'Island.', 'Hero Children.', '6 As: School for Listening.', 'Johnny Master Sight.', 'Kentuckian, Laughter.', 'The Cutting Frontier.', 'The Chronicle of Germain Project.', 'Who Saw Him.', 'The Bayter.', 'Peter Pazgrosmo: The Gathering Heirofs.', 'The Doors at Last Dragon.', 'Donja Barts.', 'Balto da Pit.', 'Agent Behind the Knight.', 'Bill Kabond.', 'The Life Ice Film Easy.', 'The Slave It All This Run.', 'The Killing F-S.', 'Bombers Clown.', 'Manhunt.', 'Back To Tomorrow.', 'Human Watch.', 'Uuno Turhapuro - pimuse in the Mountain.', 'London in the Potatoes.', 'Firema.', 'The Golden Eye.', 'Queen of the San Freabee.', 'Body of Evidence.', 'Pete Date Lives.', 'Yohnny Cool.', 'Moontrol.', 'Bo Circus.', 'All Kathon.', 'Scoopy-at! Death Machine.', 'My Fake.', 'Record of a Melody of Town.', 'Comedy There.', 'The Proud Prince.', 'Tost Beautiful.', '7.', 'Borderline.', 'The Skin Virtule.', 'I Know What You Gets Marizon.', 'Lewtown.', 'Carry On Doc.', 'No Strings.', 'I Am Saga: The Story of the Hunt for Red Ranshing III.', 'Fugitives.', 'Pier р28.', 'Babes in Toyland.', 'Donovard 3: Mis Beautiful Tilligar Sister Banks.', 'Ringu Snitch.', 'Feutes.', 'Ah Cobranders.', 'Cherry Mama.', \"Beethoven's Wh-Watkh's Work: The Yakuza.\", 'Mad Childhood.', 'Religion Everest.', 'Most Wanted.', '3: The Home Alone 2: The Destrwaish Manman.', 'Night Year Moon.', 'Restiné.', 'Azfu.', 'Slap Smoking.', 'The Open Touce.', 'Magic Town.', 'Clerks.', 'Dossippi Grindal.', 'Amor Wasteball.', 'Colossus: The Hollywood Story.', 'The Great Beyond.', 'Mid-Auguld Carb: Us Beautiful Trip.', \"Jungler's Galaming Ovana Taas Barbard Stars.\", 'CGaenial Girl.', 'Angelina.', 'Will hijo a Present.', 'Little Big Master.', 'Fun Lebo and Company.', 'The Hoodlum Priest.', 'Georgia.', 'A Girl Holiday Regar.', 'The Big Man Who Wo and the Dead.', \"Pharaoh's Concilman in Blackhead.\", 'Everyone Contis.', 'From Infigon.', 'The Strange Love.', 'Oxystokus Tribulations, Inc.', 'Blackenstein.', 'The Monkey in Babysuth.', 'Demons.', 'Return of the Five Will Tale: A Scert 2: Chef Nation!!.', 'Kiss and Run: The Return.', 'Drag or Dara.', 'Soft Shell Zamber.', 'Happy New Year!.', '2 Commarrows.', \"Elections 'Ef.\", 'Suspect.', 'Midnight Sundarin.', 'Radio.', 'Hot Me Lu!.', \"Plesmatin' Story of Aleanny.\", 'Always Men V: Outenar.', 'Cash: Suckleberry Christmas.', 'Finding Life.', 'That Davy Letter.', 'Talgain a Mother.', 'Our Trip-Teachers.', 'Up the Bobby.', 'Dana-Pooj 24.', 'Whitebiog! The Bodygan.', 'Lakeboat.', 'Bad Guys Always Death.', 'Smoke.', 'Alibi Ribiey Worm Tenevation Heights.', 'The Anthem of the 5000.', 'The Scissore The Will Blood of the Gries.', 'The Hammer.', 'The Stone Councident.', 'The Private Problem.', 'Fear Off the Wax Adventure.', 'Rocket.', 'All These Snow on Berlin.', 'Pretty Prophecy.', 'Monten Angels.', 'On Be Stores.', 'Sweepers.', 'Deadline.', 'My Favorite Jack.', 'Star.', 'Oriental Prercaless.', 'Glass: Out Own Hearts.', 'Extastizze di Max.', 'Marvel One-Shot: The Posswide.', 'A Getape Fighting.', 'Security.', 'Slayers Rue.', 'Missionary.', '23 Elephant.', \"Arihè'U5.\", 'Ownband of Foreign Reo.', 'Lovecraft: The Rise and Ruleivan.', 'At the Man in the Street.', 'Lily Cyefidenzial.', 'Idhere Lands.', 'The Seties Be Talent.', 'A Pside in Love.', 'The Hitch Hiker.', 'Lemon Juatherland.', 'Djangobery.', 'Breaking Zorrica.', 'Psycho, II.', 'Donovard.', 'Maniac Island.', 'His Needless.', 'The Scorched.', 'Catfish 2 Date.', \"7 Gitter Fishmen 'et.\", 'Sorority Wars.', 'The Red Joaf.', 'Cyborg Cop Speath.', 'The Comedian.', 'Das Recker to Live in Chicago.', 'Conversack.', 'Gambling Kai Game.', 'The Mirror.', 'For Odlastian Chair.', 'Lockόat.', 'Roadside Craws.', 'Grown of Vengeance.', 'Just Before Dying.', 'Home of the King III.', 'Raging Franklyn.', 'Zero 3.', 'Lord Color.', 'The Deliverance.', 'Blue Metamant: Chapy.', 'The Prespoqee.', 'Trailer Park Boys.', \"L'infernad.\", 'The Shift.', 'Children of a Wum Naval.', 'Harry in Bed Jeanne.', 'Shadow Part 3: Punkry voonies.', 'Chinese Go.', 'The Abominable Story.', \"The House of the New Year's Dark.\", 'In NoIs, West for Three Wishes.', 'Loose Men.', 'The Confession.', 'Firestart.', 'Khal.', 'Sherlock Holmes and Nights.', \"Officers' For My ·Bull of Shame.\", 'Cover.', 'Numbered.', 'Reelive, Summer.', 'A Night at the Organ Pine.', 'The Lie.', 'White Hair Paase.', 'Dinosaurial.', 'Zires - Lindy, Hate!.', 'Gooniver Dreadge.', 'Revolt, Head.', 'Noyo.', 'Gemini.', 'The Inaggite Brick.', 'Sleepyhead.', 'Death Wish Chiper.', 'Names Feast.', 'Toastes in the Cloud: Part Yannen Survix.', 'American Boy.', 'Eiploridos.', 'Pive.', 'Membax.', 'Grandfall: The First Bliss.', 'Rahter 45rSMIvath II: Neals Donk Kid.', 'A Tale of Fire.', 'One Fine With the Hawk Walk.', 'Sense and Fall of Diamond.', 'Christmas More.', 'Cantom.', 'The Little Express.', 'Watch the Rain.', 'The Last Hands.', 'The Carebitkwaird.', 'From Bedkfodies and Sartana Are Coming.', 'Little Nicky.', 'The Actors.', 'Return to Sender.', 'Lily of Osoner.', 'The Dark Terrible.', 'Guns of Pleasure.', 'The Italian Connection.', 'Guarding Madames.', 'Starveston Two Yinath.', 'Dream, Consocy: Wonderful Whipped X.', 'The Road to Factory.', 'Blood on the Run.', 'White Reindeer.', 'Argentina.', 'Elena Code Z.', \"Heaven's Scooby-9.\", 'Catastrophinis.', 'The Most Friends.', \"Oh, God, Don't Grim.\", 'Sini Simm- Revolution.', 'Walking Tigers.', '3 Fireflies nang with Me.', 'Payback.', 'On the Mountain.', 'Loose in Time.', 'Dumenter Solphone.', 'Night of the Creators.', 'Ayurship of the Night.', 'All This Go Teacher.', 'Submarine.', 'Mine.', 'Snowball Eyes of Evil.', 'Tommy Survivor.', 'Kiss the Day.', 'Mrs.', 'Beneath the Moon.', 'Wild Orses gerer.', 'In the Isovar of the Year.', '11 Minutes or Take Story 2.', 'Hero Deadly Surveillance.', 'Hamlet.', 'Cullet.', 'She Yesterday.', 'Huit of the Nicks.', 'The Scarlet Kermekerchastar.', 'Craig.', \"What's Oê!.\", 'Children of Sticky.', 'The Stoning Survivers.', 'Tubches.', 'Main Pierrica.', 'The First Money.', 'Man Walking Wedding.', 'Silent Within.', 'Fury.', 'East Wind.', 'The White Bird.', 'The Smuttereder Battler.', 'Teenage Drama.', 'Confession.', 'The Italians in male.', 'What the Dead Harvest.', 'October Ran.', 'Sonata.', 'Misunderstood.', 'Wilson Wedden Brown.', 'Children of Yorten Snake.', 'I Am Remembering the End of Adason.', 'Prime Angels Moments in the Attic.', 'CheßDeath Machine.', 'Shadow Partners.', 'The Big Steal.', 'Cast a Giant Shoe.', 'The Butcher Silver Deep.', 'Five Film, Prison.', 'Chisum!.', 'Skyscraper.', 'Digging Else.', 'Moonflondie.', 'Moulin Horn.', 'Planet Jorm.', 'Hey Porte in a Girltrie World.', 'Should Copia.', 'The Big Land.', 'Pilgrimage.', 'Adulterers.', 'The Boxing Glass Reporter.', 'Baby Jane.', 'The Man in the Pretty Eddie.', 'The Hacker.', 'Sergini proit Batacles.', 'The Garden.', 'La View Water from Is.', 'Kings of Irnass.', 'Aces Dreams.', 'Water Demains Apocalypse.', 'Aftershock: Incruson.', 'Camilla.', 'Identicalfad.', 'Doors.', 'He Miles Shark The Conson.', 'Lake Placido.', 'Doctor Lived.', 'Masters in My Man & Song.', 'Lilies.', 'Wings of War.', 'Water.', 'Taxi.', 'Merlin Quiet.', 'Attack of the Milky Family.', 'Not Another Lonestocth.', 'Weaponized.', 'No and Innocence.', 'Tempest.', 'Waltz Accep.', 'Planet of the Apes.', 'The Hills.', 'The Peach The Gold Courage.', 'Cold Water.', 'The Marser.', 'The Lost Son.', 'The Barber of Ohag and Me.', '/Hature for Kerandung.', 'Boudu.', \"Cow in't Half McKerande.\", 'The Extender.', 'Crackerjack ÜDim the Wind.', 'Miami Goods 2: Below the Warriors.', 'Love at First Fight.', 'Day of the Carlings of Wrath.', 'Spanish Judge.', 'Johnny Mad 2.', 'Rabid: Joe Movie.', 'Dark Water.', 'The Art of Goffie.', 'See Ref.', 'Freaky Jew.', 'Cleopatra.', 'The Detective Conan: The Beginning.', 'Goodbye Morow Beautiful.', 'Conanston Soul.', 'Two Shootist.', 'Boys Diagia and the Pautage.', 'Labyrinth at the Rain.', 'Houverling.', 'Flower õ.', \"Heber Know II: The Desonator of the Third Faster?'s & Holly.\", 'Hunger.', 'Bed of the Worst by Time.', '13th & Conquest.', 'Mr.', 'Stranded.', 'The Red Lanterns.', 'Santa Black New, Darà,: The Return.', 'That Contract.', 'The City of Badeless.', 'Salto.', 'Bonjour Vines.', 'Days of Paralla!.', 'Berlin Melhead - I Leawned.', 'Revenge of the Potatout.', 'Dangerous Company.', 'The Embartance of Everybody Make!.', 'The Alchemist Men.', \"I'll Act tort) Your Day Farmer's (Fe.\", 'The Mind.', 'Committed.', 'The Story of the North Weekend.', 'The Ice Men.', 'Intetion.', 'His Live Woman.', 'My Shoes.', 'Benes.', 'The Two Mr.', 'Pler in Artume.', 'Visiting Command.', 'Rahunch Laughing Man.', 'Emer Dad.', 'Horton and Lover.', 'Russian Standing.', 'Port of Jesus.', 'Bloody Valley.', 'These Frost Professore.', 'National Summer.', 'Phantom One-wayda brood Guns.', 'Bullets Country.', 'The Man Who Knew III.', 'Room.', 'Daughter by Moon.', 'My Life in the Air.', 'The Wicked Inns That BinkzwriΑ.', 'Ultravior.', 'Pulse.', 'The Present Follows!.', 'The Postmaster.', 'Daughter of Hakesa.', 'The Returns.', 'The City of Sing Sense.', 'The Grumpy King.', 'Soldier.', 'Action Decear.', 'Magnek.', 'A Grave.', 'Do Not For Fall Tale.', 'Fighter City.', 'The Cheatenentricitian: Life World.', 'Rosencrantz king.', 'Legend Wind.', 'Coffin.', 'Emperor Dare.', 'All These of How Thing.', 'Sheilan Fitters.', 'Colling Stone.', 'Balls to the Reeper.', 'Daughter of Darkness.', 'The House on the Roof.', 'Room Only.', 'Jen Season.', 'Locust.', 'The Mattein.', 'Camelot.', 'Poverty and Harry.', 'The Girl in Quien.', \"Devil's Last Flight of Love.\", 'Stark Point.', 'Lana: Otics Person.', 'The Boss Maria.', \"I Don't Come Home.\", '87 Wives the Happening.', 'Under Suspids: Adventures: The Movie.', 'Blind Dates.', 'White Wedding Heist.', 'Police.', \"Johnny The Star Making of 'Stars.\", 'Shivers.', 'Elvis and Circus.', 'George at the Tormer.', 'Malice Plantaction.', 'Courted Blood.', 'Antiviral.', 'The Bounty Guit Thing.', 'Travels with the West Propect.', 'Dylan Moran: Monster.', 'A Wedding Prow.', 'City Noir.', \"Don't Do Banaka.\", 'Too Ears Mö My Friends Unjesher.', 'The Anniversary.', 'Castle on the Hudson.', 'Very Wrapped in New York.', 'The Mother.', 'Playground.', 'The InS Patiend.', 'Jonny.', 'Square Man.', 'The Girl in Showners.', 'Jack and the Gedmator.', 'Celebrity.', 'Madagascar Spring.', \"Exy's Them.\", 'The War of the Cried & Son.', 'Darkman II: Who the in a Blue Sage.', 'Monoi Room.', 'Hush.', 'Jacob the Rocketship 2.', \"Where's Only Dust-ine.\", 'Song of Things to Blow You Can Broke.', 'Why God Again.', 'Kickboxer 3: The Encle Softly.', 'The Ballroom.', 'Lili.', 'Twist of Film.', 'Nothing Rended.', 'Butterfly.', 'Tesse James Histoisias.', 'Shadow Soch Columain.', 'Rosencrantz : 30.', \"Satan's Sword: The Dream Boys.\", 'Backdoors.', 'The List of Atlaus Vallenn.', 'Fuens on Eagles.', 'The Secret Life of Petis Get Story.', 'Last Winter.', 'West Of Doll.', 'Seing Time Stroll.', 'Rody & Miri, Way.', 'Elailly Zet.', 'The Frith and His Girl?.', 'Funny Dark Up.', 'Demolitionistrom Pockerus.', 'The Little Matchgirl.', 'The Cooler.', 'ДSubitogen.', 'Casting Room.', 'A Midsummer nother.', 'Julie Fury.', 'Indepent Ballout: 7neberry Maron: 200.', \"New Year's of Summer.\", 'Where the Trail Spage.', 'The Mequieve in July.', 'Ramub.', 'The Valley of Atlantis.', 'Best Jules Donation.', 'Impulse.', 'The Witches.', 'As You Are LocKen.', \"The Scorpion's Trew.\", 'Tota Tenant.', 'Glete Diamond.', 'Bottom of the Tinys of Heaven.', 'Un mundo.', 'The Passionate Criminal Justice.', 'I Was a Die.', 'Follow That Girl.', 'Crime and Sorrow.', 'Ask.', 'The Boss.', 'Dave Chappelle.', 'Shava.', 'Marie-Bad.', 'Night Shiva.', '101 - &идн9.', 'Tokyo Sonata.', 'New York, New York Stills.', 'Misunderstood.', 'Sydox.', 'It Felt Frontier.', 'Baptis.', 'Samson Fames.', 'Headfivation Play.', 'Sinister 2.', 'Seven Fire Jerush.', 'Psym.', 'The Luck of Scancrado 2: Ice All Water.', 'Murder, Valled Captain Night.', \"Ana Footain's Daughter.\", 'Alone.', 'Gamer.', 'Bait.', 'Waterworld.', 'Monty Python and Is Caked/ 3.', 'Close Mystery.', 'Search for the Elephant.', 'Dirty Girl.', 'In the Edge of Week.', 'Kid Come.', 'The Magnificent II.', 'Miraklet Chase.', 'Hush.', 'Rage in Secondor.', 'Grumpier County.', 'Reclips.', 'Time That Elize.', 'Saber Made.', 'The Bill and the Party.', 'For the Goast.', 'Killshot.', 'Mouse in Monster.', 'Outsider.', 'Saturday Baby.', \"Betty Boop's Room.\", 'The Disappearing.', 'The Battle of Chile - Artistakkillı and His Time.', 'The Omega Chance.', 'Post Game.', 'Legend of the Devil.', 'Die Dhad Mancholia.', 'SuperDay.', 'Ruce to the Füon Elections Running.', 'Calvin Harban: Laja Legacy.', 'Palemaal.', 'Halloween Home.', 'The Dog Who Saved Nostalks!.', 'The Kittenburg Undeers.', 'Systemfehead.', 'Bangkok Dangerous.', 'Frankenstein Syndrome.', 'Pulse.', 'Dragon Hunter Lily).', 'Die Nibel, Honor of Laughter.', 'Ashlex ball.', 'Overheard 2.', 'Boudukter.', 'My Good Man and His Dream a Ball.', 'It Marcel.', \"Judas Smair, Cat's Ownenators.\", 'Peñhother.', 'Accidental Love.', '99 emmith Shamo 2.', 'Cock and Order.', 'The Last Dragonzo.', 'Bound to Kangi.', 'Waking Sam.', 'O.', 'September.', 'Good Copy Bad Me.', 'Love in the Afternoon.', 'Double Indemnity.', 'Oddba.', 'Dery Sei.', 'Spana: The Rachel.', 'Eternal: Alien Tomorrow Abler.', 'Bones We Page.', \"Mother's Has Cause Fever.\", 'The Spin in the San.', 'Rosencranted.', 'The Impossible - Across the Bone.', 'Faith and Found.', 'Sleepwalk.', 'Up in Heaven.', 'Paradies Brown.', 'Rodan.', 'Balto Be Wild.', 'Stalker.', 'The Car Boys.', 'At Out of Elis 20.', 'The Siren Within.', 'Dope and Called Blast.', 'Camp Massacre.', 'The Matas Geseanq.', 'One Ben Knockol Gas.', 'Cherry Freaks.', 'Meah.', 'The Desert Skin.', 'An American Tears Blue.', 'Milari.', 'The Perfect Nach.', 'Alien Aubrick and His Marilyn in Heaven Adops.', 'Nativity.', 'My Ashes Agaest Ib End Shift.', 'Sleeping Giant.', 'Humanoids Point.', 'Fifty Shades of Blood.', 'Crime in Love.', 'Sin.', 'Carnya.', 'Rat Detectives.', 'Fire.', 'Poltergeist.', 'All About Liber.', 'Hellraiser: Dear - The Enic of Desire.', 'Evening.', 'Shivers.', 'Hallop.', 'Bettie Story 2.', 'Waiting for Good III.', 'The Heroine.', \"Gunman's Saddle.\", 'Fighting Me.', 'Finstein (Yp: The Story of Quarten Cardra.', 'Small Craigslist Is My Pandame.', 'FM.', 'Humore the Wind.', 'Oh How It Happened?.', 'Mister-Plinvom.', 'Man, Girl in the Prairtly Maiullode.', 'The Mark of the Teenage Mist.', '51, Mistjexiy-Island Past Is 3.', 'Ghostland.', 'One-Armed Squit!s Move.', 'Munntcuhur: Gravais Pantor, zigh, kalled.', 'Depeche Good.', 'Mindwalker.', 'Harmonium in My The Trials.', 'Bonjour Steel.', 'Late August.', 'The Waterday.', 'The Hunchback of Notre Dame.', 'ViyB.', 'Jacob.', 'Russell Suthis: Battle for Wedding.', 'Shield of My Arhichi, Pig!!.', 'Lines.', 'Boomerang Girl.', 'Cherry Tobbcase.', 'Project Chance.', 'Center Stage.', 'The Legend of Emily Colo.', 'The Hedness of Frankenweenies.', 'Mothers Factor.', 'Operator.', \"I Can Mac'ès Love Once Valley.\", 'The Thin Man.', 'Billy Lies.', 'Ah, God Battle 21.', 'Overheard Boway Heaven.', 'Wise List.', 'The Pean Girl.', 'Goodbye Wars.', 'Captive People.', 'Firestarter 2: Ciaupite.', 'Tokyo Sceness: Made of News.', 'My Best Daniel Agent.', 'Gravity.', 'Rango Joe.', 'Amsterdam.', 'Harry and the Beast.', \"Water's Sierlestion.\", 'Boom Man vs Deqral.', 'A Gentle Lover.', 'Captain Always with Trick Halley.', 'Cross.', 'The Van.', 'The Save the Great Last Blive and The Last Harp.', 'Dot and the Boxer.', 'Marie and the Stranger.', 'Dimensions of a Stripet Lies.', 'OrB Carpetto: Adventures in Paradise.', 'Huik.', 'Denise Prey.', 'Black Emmanuelle.', 'Who Am I.', 'All My Not.', 'Devil in La Mancha.', 'Best in Allen.', 'ÖStars in the Hat Shork.', 'Boy.', 'Knives entizata.', 'Cowboys Sleuths.', 'The Admiracy: Weries.', 'Popathi.', 'Kung Fu Panda: Seciefightee and Easy Run.', 'Last Days Versier.', 'Moonlight and the Emperor Goes.', 'Cool 8säna la visha.', 'Anne Roses Again.', 'Street Jones.', 'Forsaking About Love.', 'The Night Is Pipa.', 'Operator.', 'The Mirror Has Two Girls.', \"Starship III: I'll No Bitch Huds.\", 'Outlaws at the Wind.', 'Trouble Posiana.', 'Mademoiselle.', 'All Eyes of Sunday.', 'Bachelor Party Raw.', 'One Fingers.', \"Non-Povers Aprio's Batle.\", 'Rosencrantz & Human Mundhunter.', 'Mill Morough.', 'My Friends and Warning.', 'Commandments.', 'The Subled Hearts of Comis Labors.', 'Crime/-2: Fingers with the Devil.', 'Three Adventures.', 'The Glass Shop Fury.', 'The Wave.', 'Third Flies.', 'The Pope Hunter.', 'The Designated Mourner.', 'Brother Can Plan.', 'Tommy and the Event.', 'Clean Heavy.', 'Return to Street.', 'Walking for Secretary.', 'New Orders Kind.', 'The Ripper.', 'Aschenputtel.', 'Some Girls.', 'Le Notti Fist.', 'Disengagement.', 'Ren Got Her Highning.', 'The Tombstone.', 'Four Soldiers.', 'Sister Street Circu.', 'Body: The Steam Did to Day the Bay Area Soldier.', 'Jasminum.', 'The Marathon Saude Bay.', 'Born to Kravo.', 'Teen Titans: Trouble in Tokyo.', 'Dead On.', 'Will It for Young.', \"Don't Look of the Ring.\", 'In Search of the Silent Never Beverly Hills.', 'Elevator de Flight.', 'Man of the End.', 'Special 4: James Kiss.', 'Good Get Profession.', 'The Black Knight.', 'Misundle And Stars.', 'Forever Young.', 'Arrestless.', 'Locusts: Fauter the Devil.', 'October 9.', 'The Duqueliness.', 'Carol in II.', 'The Dove Foxes.', 'Versè.', 'The Freshman Tomorrow.', 'The Grabblic Man.', 'Destroyer.', 'Céros in Manhattan.', 'The Beast.', \"Serendoux's Day.\", 'Hail the Universal Goodbye.', 'Beyond Time - 6.', 'The Black Cat.', 'Le grand Canan.', 'Jeanne Down.', 'Saint Laurints.', 'Kitty Boo Bebound.', 'Natural Screaming.', 'Sherlock Holmes from Granning.', 'Bottom at the End of the World.', 'The 100 Days.', 'Une Life.', 'The Chorus.', 'Diggy.', 'Song to Brazion.', 'The Killing Point.', 'Banana Palace.', '2016: A Punisher: Right Thing the Incredible Shock.', 'Padri.', \"L'Impiegate Thirst Survana.\", 'A Star for Skin.', 'Long Way Back Excel.', 'Dawg Booge.', 'The Apartment.', 'Godzilla.', \"Kiki'bs Leader.\", 'Ghost Is Movie.', 'Dry Wilderpared.', 'The Cetallion of Honor.', 'Das Book Sunshine.', 'Seaflehead Life.', 'Gumby.', 'The Olsen Gang.', 'La sgars de la Club.', 'Go Only the Kid.', 'Open Alive in Game.', 'Proteus.', 'Dinosaurs.', 'Under the igo and Rise.', 'Old Dogs.', 'One Way Bos on Zone.', 'All C.', 'Smile.', 'Becoming Mirror.', 'Duells.', 'You and Hype & Black & Sah.', 'Retribution Dotosdaits.', 'Undertow.', 'Pontact.', 'Swing!.', 'The Santa Clause.', 'Santa Clause.', 'Bottom of the Shell.', 'The Diamond Sins.', 'Pirates of the Lefts.', 'Crazy Fever.', \"Zatôichi's Zombirsario.\", 'Film About a Touch of the Big Heat.', 'Jindabyne.', 'Captain Abbots.', 'The Big Broadcast of 19–artlero.', 'Fury.', 'Millennium.', 'Once Upon a Time in China anduaius.', 'Old Man at Heaven Brown.', 'Crime and White Lane.', 'Hiver Story.', 'Into the Sun.', 'The Woman in Badge 3: The Possession of Joel Doll.', 'Perry Mason: The Case of the Heart.', 'D.', 'People in Apactop.', 'Last Highway.', 'God Egges.', 'You and Sebastian.', 'Shadow Feet Estralia.', 'Lucky Sissed Note.', 'She Art of the Control.', \"I'm a Southern Gay.\", 'Under the Rainbow.', 'The Red Decent.', 'Miss Annie Hamlet.', 'Raising It Alice That Thing.', \"A Royal 2: All TogeTs'.\", 'The Maltese Tales.', 'Knife in the Wounded Geser.', 'Barefoot High Tea Cover Dreams.', 'Firestardum.', 'The Return of the Crush.', 'The Year That?.', 'The Muxennic.', 'The Starrows Bars.', 'The Deparats Catcandas: A Nausted An Earth: The Pipils.', 'The Last Great Was a List!.', 'When Night Hair Bougi.', 'Party Business.', 'You Kill the Mist.', 'Mission to Gleof.', 'Battle by Heard.', 'Weekend Sharp.', 'Inmeritan.', 'Hideaway.', '80 Movie.', 'Tommy Tucker.', 'Clubbed Par.', 'The God Herumbelies.', 'The Rise and the Rising My West-Yu Story.', \"American Grindhould's Heart.\", 'Apartneom Street, Polors eurotigra.', 'Death Worlds.', 'The Little Hair of Ximes.', 'The Hallión Married Trail.', 'The Oh in the Night.', 'Girl Two City.', 'Jyu Kа10.', 'Littleroccolt Mother Guy Me.', 'Redemption.', 'The Double.', 'Requiem Foe Theatre.', 'Summer School Beneath.', 'Copy Men.', 'Attack Thompson.', 'Billion 12 Date.', 'Hansel & Word.', 'Farmer Susper: Face.', 'The Ticce to Kill Starrest Scenes.', 'Forbidden ball Castle.', 'Deep Dark Adventure.', \"The Hunter's House.\", 'The Lost Shield.', 'Innocence.', 'The Return of the Fixed: Final City.', 'Hansel & Grand Rebirth.', \"Avalon's Sarah.\", 'Brave.', 'Jimi Hendrix: Solitagulations.', 'Too Many November One.', 'Escape from L.', 'Jersey Shore.', 'Beyond.', 'The Killers.', 'Red Flum.', 'The Bachelor.', 'The Revisionary.', 'Anvil!.', 'John Munick and the Clown.', 'Madonna: The Butterfly Ball.', '21 Sutto sa Claus Is Cursia Quixi.', 'A Man Called Glenny.', \"These Walking's Needs.\", 'The Wicker Minister.', \"Madematoon from About You're Husback.\", 'King Kelly.', 'Amusemen.', 'Into the King of My Father.', 'Right Samurai.', 'Isle of Society.', 'La grand kapender.', 'Todd.', '13 Runs and Franky.', 'Sundovary.', 'Livide.', 'Poltergeist.', 'Snowed Andit.', 'Einja.', 'George Carlin: Hard Arc of Hei-Hee.', 'Catakhra 3.', 'Kiss the Brain.', 'Sorority Against the Earth.', 'Idle of Washington.', 'So Fools.', 'The Good Guy.', 'Times at the Wind.', 'In the Children of Stic.', 'Children.', 'Comedy Central Roast of Change.', 'The Untold Story.', 'Quatreen Plains.', 'Wolf-Boot.', 'Once Upon a Time in September.', 'Sky West of Salami Resurrection.', 'The Quest.', 'Fight Reur.', 'A Child 4 Freder.', 'Beyond the Roarrolls.', 'Loobabo.', 'Most Hills and Eve.', 'Slacklers.', \"I'll G' Letheas.\", 'Lakemobody Love.', 'In Bloom.', 'The Lonely Stone.', 'Queen of the Naked Freed.', 'London Road.', 'The Nightingale.', 'Sunset Strip.', \"L'evacho Win.\", 'Mirate at Alienairea Raiders.', 'Perfect Store.', 'Afshi Quest - World.', \"The Devil's Adventure.\", 'The Way Are Albert.', 'The Demon Man.', 'When I Got Loud.', 'Very Thunder After.', 'Jotes.', 'Gabriel Igle.', 'Tetra.', 'Cold Blood.', 'Agneepath a Lebender.', 'Savage Grace.', 'Platoon-Up Seven.', 'Take the Flesh Guanty.', 'The Best of the Brave.', 'Seven Wonderland.', 'Antitrust.', 'Shan Obsessed.', 'Term Them.', 'Act of James Caesaurs.', 'The Corsican Crime.', 'Dough.', 'The White Ship.', 'God Not Me.', 'The Inn of an One.', 'I Am Albied Subine.', 'Dumplings.', 'A Bela Car Lante.', 'The Burrowers.', 'Joehy Exael.', 'Don Jonóer tha Day.', 'Nothing Leona Bones.', 'Austen vs Prince, When Orgah No Moranado.', 'The Young Lions.', 'Goddess Θi Batbon.', 'The Old Stars.', 'The Librarian: Return to the Restleen and a Had.', 'Island.', 'Hill, Ghost Dracula.', 'Save the DeXechured.', 'WohM Gigal.', 'The Xulin.', 'Zoot-Money.', 'Perry Mason: You Fede in Jesse Man.', 'Kixoken Known.', 'The Next Before Turning.', 'Sleepless.', 'Dragonsman.', 'Screaming Atanhone.', 'Another Cop.', 'Shaolin.', '.', 'Seventh My Fat.', 'American Honk.', 'I Comedy Affair.', 'The Stone Leave Me w 97 Year Two.', 'The Magnetic Liv 2u-½at Lazgo.', 'Abiynatable.', 'Yurdhalth.', 'Kill Theory.', 'The Parent Love Story of the Grand Caper.', 'The Matrix Reloaded.', '24 Secrets of Moon Roulet.', 'Joe Somebody to Die.', 'Private Scorpio.', 'Jones: The Art of Crime.', '7 Think Of Hossign.', 'Kiss Russengä babli dś nontagio.', 'Resistance.', 'My Sunshine Cleaning.', 'Next Chase of Cherry.', 'Monster Horse.', 'The Holy That Once and Kicking Lady.', 'A Man Who Dramperce.', 'Firewaverick.', 'Otagonia.', 'Future by Missing: A Plane on Sylung.', 'Je Bobward Jesus.', 'Robin Hood.', 'Pushing Paint.', 'Clean Spent.', 'First Comedy.', 'Australian Porticle.', 'Fifty Shades Again.', 'The Dog Last.', 'Chosen.', \"The Man Who's Dream On Air.\", 'Is Entralmet.', 'Last Strange.', 'Bestival Incident.', 'Guru, Lone Wolves.', '769t.', 'Bad Girls 2.', 'Toto the Viller.', 'Kustom Kids.', 'Stephen Together.', 'Darling.', 'Trust the Movie.', 'Conseir.', 'Fireworks.', 'Sweet Mepris Squeena.', 'Home Earth: Boenge Job.', 'Shanghai Knights.', 'Robino act Service Unknown.', 'Here and Monster High: Weacking Witch.', 'Redire.', 'Nine Machine Left: Vixenel.', 'Rey, Mr.', 'Hunter Tales, Man.', 'Citizenfour.', 'Tortilla Enemy.', 'Cyborg Cop Bela.', 'David Himself.', 'Murder by Herdinald.', 'Kind Hitler: The Legend Contreetin.', 'Shanghai Norths.', 'The Winning Ringer.', 'Splitting Night.', 'Monster 24d Flumage Hate Gray Yours.', 'Peretch.', 'Diêk Girl.', 'The Little Whirlwind.', 'Buddenbriki.', 'Insocab: Space Woman.', 'The Offerances.', 'Oliver Twist.', 'Disaster Her Alien Little Drummers.', 'Crawlspace.', 'The Winners.', 'Conversations with Love.', 'Mesrine: The Lost Angels.', 'The Shift.', 'Choopee.', 'The Tailor of Satan.', 'When dagose Hats Front.', 'Eat of Moona.', 'Duma.', 'Ransom.', 'Bachelor Party 4: The Fittest Tucture.', 'Dangerous Men.', \"It's Always Faithfully Yours.\", 'Stevie.', 'Letter to a Serial.', 'Beyond Memories.', 'Zakhani: Obhishing.', 'Dragonsat.', 'Mohablo.', 'The Bat Wey.', 'Love & Virgins.', 'Die weisse, uncidental Follow That.', 'Ryna Flye Dade.', 'The German End of Civil Thaw.', 'Senesitor House.', 'Wrestling.', 'Jesse Die in Tears Jazz.', 'White Dandri.', 'Pistol Good.', 'Street/Com & Bean.', 'Zen!.', 'Atlantis.', 'Beneath the Safe.', 'Pride for Haven.', 'The Condemned.', 'Speeadropo!.', 'Hellgate.', 'Houstoning.', 'World War Seven Conque.', 'Silent Song.', 'The Lost Wanted.', 'American Ninja Haik.', 'When I Sense on Isan Shoes.', 'The Drop.', 'Jindabribe Can Boy.', 'Mastians Alice.', 'Divergent.', 'Parasite Sparra: Explorivers.', 'Sone of the Living Dead.', 'A Hot Her Fride.', 'Mister Robert.', 'Men Go to Midnight.', 'Mayfight.', 'Roseuniorm: A Hole in the Fok.', 'The Fighting Princess Are New.', 'Pasting Club.', 'Revenge of the Three.', 'Children of the Corn III: Journey to the Fireflies Brown.', 'Escape from the 2 O.', 'Superstar Moon.', 'The Smurfs 2.', 'Robbery.', 'Septembered.', 'Made it Home.', 'Going Postal.', \"Hitler's Hope.\", 'The Dark Tower.', 'Jigsaw.', 'Darkman II: The Horrors! Gun Queen.', 'Weekend Punder.', 'Tracers.', \"Eye Don't Cry.\", 'Mary and Again.', 'The Man in Monray Magic.', 'The Veneties of the King.', 'Phantom of the Great Diamond Party.', 'Lassie Witch.', 'Slessed.', 'Shoot the Storm Race.', 'Men in Time.', 'Open Quest.', 'Romantic North.', '12 Days of Glory.', 'One in a Mie.', '40 to Midnight.', 'A Telemaly Want.', 'Big Bad Gay.', 'Black Angel.', 'Half Light.', 'Cheerleader.', 'Citizen & Cellini.', 'Moons.', 'A Good Girls.', 'Bündunkte.', 'Copperhead.', 'Bethvoote.', 'Before I Ha by Dreams.', '99 71/C.', 'What Lies som eaming Jack Chotagnet.', 'Fars.', 'Black Angel.', 'Life.', 'Road to Longres.', 'The Wine Shore.', 'Mail Gang.', 'Housekeeper.', \"Ocean's Save It Gold.\", 'Melbius infrom Chuck.', 'A Glass Atory.', 'Dead Zone.', \"Extendia's Strange, My So Home.\", 'Red Blade.', 'Saratographer Snake.', 'Best in Me.', 'Ovosodo Mars.', 'Child of Old Youth.', 'Muising Liars Up 2: The Special Delivery.', 'Street Joe.', 'Teenage.', 'Lassie.', 'Cartel Road.', 'Million Pierre.', 'The Bird Hard.', 'Shadre.', 'Desert Alleytor Man.', 'Bangkok Dawn Terror Fire.', 'Normal Necike Uncle Scorblow.', 'Oisa the Sea.', 'Alien IN4nay: Tonight of the Show Sesside Flighty Sweat for Christmas.', 'Road to Eatdäl.', 'Conan Tempton.', 'Dazzkòijishin a Rit.', 'My Voice Goefman.', 'The Barcect Cs Baraculus.', 'Danger.', 'Ilsa, the Movie: Curb Your Quest.', 'Easy Money.', 'Superheroes: The Echo Diamo of Death.', 'Unfrom Not Saddofage.', 'The Tree of Burial.', 'Pinkha.', 'Khallas This Road.', 'Dogt His Baby to TaПh.', 'Caro.', 'Face-Athamist.', 'Runaway It It: Theory of the Earthquake.', 'Resident Evil: Villets Fly.', 'Twice & Anatomy.', 'Halloween: The Clock Never.', 'Mars.', 'Four Flehtings.', 'Divergent.', 'Darling Trap.', 'La Bamland.', 'Boy Meets Girl.', 'Just in Time for Dream Even.', 'The Perils of Pauline.', 'Stud Manam.', 'Beloved, Ariente bosse.', 'Last Night Guards.', 'About Youth.', 'You Are My Dead.', 'Roded Scared to Die.', 'Daydreamer: Hermine.', 'Puppet Case.', 'The Stepford Wives.', 'The Nutty Gradlly Predators.', 'InSight Game.', 'Four Eyes and Savagey.', 'Hersign Parties.', 'Trolls.', 'Suicide Cowboy.', 'Doctor Experiment 2: The Secret Songs.', 'Young Message.', 'Weekend Advente Jim.', 'Battle for the World Flows.', 'Joy-Fix Skizu Cobia Human Like Love.', 'Ishquad.', 'Little Man Girls.', 'Clayo Enchance.', 'Old Tunner.', 'Bariest of Boys.', 'Debusterpart: Mocle 2.', 'Sweet Sugar.', 'Jesse Softel Drinkely!.', 'Bread Up - The Gathering Miss Movie.', 'Dr.', 'Double Wide House.', 'The Edge of the Earth.', 'Kaunksift at the Hookıvi.', 'Hunted.', 'Urtimute.', 'Sherlock Holmes and Doctor Husmas uncipen Stinzighi.', 'The Book of Life.', 'The Crimson Rivers.', 'A Year in the Dusen.', 'In Party.', 'The X Feeling on a Lion.', 'Manta - Theater.', 'Film Book Wool.', 'Street Hooligan.', 'Like Mikes the Boys.', 'Hawkited.', 'Sainty 9αword.', 'Malie-Va Devil.', 'Doctor Who: Flazнumper.', 'Alone.', 'Beyond a Reasonable Doubt.', 'The Possessioners.', 'Unter Song Snuldree.', 'The Confession.', 'Un mix: Star Makiga as.', 'Post & the Japanese Among Stain.', 'Mandroid.', 'Innocents.', 'Native.', 'Color Cop.', 'Man Obona.', \"Dirty Dave Chappelle's Monday.\", 'Disaster Monsters.', 'Moving Hair.', '50 Queen Boy.', 'The Devoladia.', 'Let Him Be Menac.', 'Pet Pechauns.', 'Goodbye Company.', 'Kokoko.', 'Body Boglind.', 'Death Light Shin.', \"The Amazing That Could's Fresh.\", 'Farewell to the Times Seasods.', 'Painted Woman.', 'Underwolf.', 'Ul - pivina della Club.', 'Shadown.', 'The Huna force Wellington Miracle.', 'The Utem.', 'The Phone Warriors of a Dentical Story.', 'Pen IN2.', \"I See 'Tbelp.\", 'A Getting America.', \"Dante's Diary.\", 'What World Mo Rain, Dudes.', 'Trip Your Hail.', 'Ostatem and the Bobby Story.', 'The Sicilian Girl.', 'Virginia City.', 'Shadowchaser.', 'The Bar Brass.', 'Ride Frightene.', 'Shadows in a Galloca.', 'Toy Me.', 'Friends and Carlasman.', 'Brothers Gager.', 'Ambush.', 'Megamind.', 'VŽeason Empress.', 'Set to Earth.', 'Ten Smand.', 'The Philai Scanda Syruth.', 'Don, Pajobru 2.', 'Der One-Armend of Brotherstance.', 'Dragon Squatters.', 'It Careful and Jack.', 'Young.', 'The Paper Witch.', 'Lonely Hearts.', 'Pan.', 'Three Days Chance.', \"It's Alwo meeware.\", 'Monkey The Movie?.', 'Pooterget.', 'Galíndez Boys.', 'Godzilla vs.', 'Alien from Bloodmoro Lythousand Hot.', 'From the List.', 'War 3-D.', 'Advir and Other Room.', 'Mostly Player.', 'Mouth One Stow.', 'Too Late for Gethin Roye.', 'The Harvest Woman.', 'Dough.', 'The Tooloose.', 'The Bronx Huntresson.', 'Stranger in Jenes.', 'Dark Water.', 'The Old Angels.', 'Black Out.', 'The Road.', 'Xterland.', 'The Headhunter.', 'The War 2.', 'Scooby-Doo! Girl.', 'Ticked.', 'Restless.', 'Strongest Proft and Tatso sucitièout Ranma.', 'World War II: Sex!.', 'Superman Annamard.', 'U Planet X: How Servie Woman.', 'Earthquakes.', 'Waiting for Lightning.', 'Devolved.', 'Young Goods.', 'Blood Extra.', 'Into the Man.', 'The History Dawn.', 'The Eereb.', 'The Work of Being.', 'My Favorite Glass Sex.', 'These Wilderness.', 'The Ottolix andę Young.']\n"
     ]
    }
   ],
   "source": [
    "# sample from model\n",
    "num_samples = 2000\n",
    "out = []\n",
    "for i in range(num_samples):\n",
    "    context = [0] * block_size\n",
    "    name = \"\"\n",
    "    while True:\n",
    "        logits = model(torch.tensor(context).unsqueeze(0)) # Add a batch dimension\n",
    "\n",
    "        probs = F.softmax(logits, dim=1)\n",
    "        idx = torch.multinomial(probs, num_samples=1).item()\n",
    "        name += itos[idx]\n",
    "        context = context[1:] + [idx]\n",
    "        if idx == 0:\n",
    "            out.append(name)\n",
    "            break\n",
    "\n",
    "print(out)"
   ]
  },
  {
   "cell_type": "code",
   "execution_count": null,
   "id": "ea3e4cf1-e62b-4efd-89f6-9185d5c67ead",
   "metadata": {
    "jupyter": {
     "source_hidden": true
    }
   },
   "outputs": [],
   "source": []
  }
 ],
 "metadata": {
  "kernelspec": {
   "display_name": "Python 3 (ipykernel)",
   "language": "python",
   "name": "python3"
  },
  "language_info": {
   "codemirror_mode": {
    "name": "ipython",
    "version": 3
   },
   "file_extension": ".py",
   "mimetype": "text/x-python",
   "name": "python",
   "nbconvert_exporter": "python",
   "pygments_lexer": "ipython3",
   "version": "3.11.5"
  }
 },
 "nbformat": 4,
 "nbformat_minor": 5
}
